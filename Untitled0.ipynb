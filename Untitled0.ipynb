{
  "cells": [
    {
      "cell_type": "code",
      "execution_count": null,
      "metadata": {
        "id": "2-V1Hu7pOE6R"
      },
      "outputs": [],
      "source": [
<<<<<<< HEAD
        "#random commentt\n",
        "#ershey's comment"
=======
        "# Vanessa wuz here\n",
        "# Phoebe was here"
>>>>>>> 40bd8bc (test 2.)
      ]
    },
    {
      "cell_type": "code",
      "execution_count": null,
      "metadata": {},
      "outputs": [],
      "source": []
    }
  ],
  "metadata": {
    "colab": {
      "provenance": []
    },
    "kernelspec": {
      "display_name": "Python 3",
      "name": "python3"
    },
    "language_info": {
      "name": "python"
    }
  },
  "nbformat": 4,
  "nbformat_minor": 0
}
